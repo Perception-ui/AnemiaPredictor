{
 "cells": [
  {
   "cell_type": "markdown",
   "metadata": {},
   "source": [
    "### Research Questions\n",
    "•\tBased on CBC, age, and gender, how can we forecast the presence of anemia and its severity as early as possible?\n",
    "\n",
    "<br>•\tWhich age group of the population is most susceptible to anemia?\n",
    "\n",
    "<br>•\tWhat are the effects the symptoms and impacts of Anemia to a human body?\n",
    "\n",
    "<br>•\tWhat effects does anemia have on the various genders?\n",
    "\n",
    "<br>•\tWhat effects does anemia have on people's performance and quality of life?"
   ]
  },
  {
   "cell_type": "markdown",
   "metadata": {},
   "source": []
  }
 ],
 "metadata": {
  "kernelspec": {
   "display_name": "Python 3 (ipykernel)",
   "language": "python",
   "name": "python3"
  },
  "language_info": {
   "codemirror_mode": {
    "name": "ipython",
    "version": 3
   },
   "file_extension": ".py",
   "mimetype": "text/x-python",
   "name": "python",
   "nbconvert_exporter": "python",
   "pygments_lexer": "ipython3",
   "version": "3.10.11"
  }
 },
 "nbformat": 4,
 "nbformat_minor": 2
}
