{
 "cells": [
  {
   "cell_type": "markdown",
   "metadata": {},
   "source": [
    "# Anemia Detection and Severity Classification in Kenya : A predictive statistics"
   ]
  },
  {
   "cell_type": "markdown",
   "metadata": {},
   "source": [
    "## 1. Business Understanding"
   ]
  },
  {
   "cell_type": "markdown",
   "metadata": {},
   "source": [
    "### (a) Introduction"
   ]
  },
  {
   "cell_type": "markdown",
   "metadata": {},
   "source": [
    "The Kenya Medical Research Institute(KEMRI) is a state corporation established in Kenya in 1979 through the Science and Technology Act, Cap 250 of the Laws of Kenya. It operates under the Science Technology and Innovation Act, 2013 as the national body responsible for carrying out research in human health in Kenya. KEMRI is the medical research arm of the government and provides advice to the Ministry of Health(MOH) on various aspects of healthcare and delivery.\n",
    "\n",
    "KEMRI's mission is to improve human health and quality of life through research , capacity builging , innovation and service delivery. The Institute conducts research under seven research programs including Biotechnology, Public Health and Health Systems, Sexual Reproductive Adolescent and Child health,Natural Products and Drug Development, Infectios and Parasitic Diseases and Non-Communicable Diseases.\n",
    "\n",
    "Within the Health Sector, KEMRI is responsible for providing leadership in health research and development, shaping the health research agenga, setting norms and standards, articulating evidence-based policy options, monitoring and assessing health trends as well as dealing with trans-boundary threats and disease outbreaks. The institute further continues to be responsive the challenges of emerging and re-emerging diseases including Non-Communicable Diseases and communicable conditions and bio-terrorism.\n",
    "\n",
    "Anemia is one of the diseaes that have posed a significant public health problem. Anemia is a condition in which the body lacks enough red blood cells to carry oxygen to the body's tissues. According to the World Health Organization, anemia is a serious global public health problem that particularly affects young children, mensturating adolescent girls, pregnant and postpaturm women.Anemia can be classified in three different levels based on its severity. The severity of the anemia is determined by measuring the level of haemoglobin in the blood.These levels are mild,moderate and severe.\n",
    "\n",
    "In this project we aim to develop predictive models utilizing factors such as Red blood Cell count,age, sex,white bllod cell count etc to help predict the presence of anemia and its severity in different persons. By critically analyzing this different factors we will be able to help KEMRI which was commisioned by the Ministry of Health to improve on the current diagnostic tools on anemia detection in terms of efficiency and accuracy. By doing this we aim to encourage accurate early predictions which may ultimately lead to accelerated interventions.\n",
    "\n",
    "\n",
    "\n",
    "\n",
    "\n",
    "\n",
    "\n",
    "\n",
    "\n",
    "\n",
    "\n"
   ]
  },
  {
   "cell_type": "markdown",
   "metadata": {},
   "source": [
    "### (b) Problem Statement"
   ]
  },
  {
   "cell_type": "markdown",
   "metadata": {},
   "source": [
    "Efficient and accurate anemia detection, coupled with precise severity measurement, presents a critical challenge in modern healthcare, especially in the context of Kenya's medical landscape. The current diagnostic tools lack the precision needed for early identification, leading to delayed interventions, suboptimal patient outcomes, and escalated healthcare costs due to preventable hospitalizations. In response to this, the Kenya Medical Research Institute (KEMRI), commissioned by the Ministry of Health (MOH), is embarking on a pioneering project. Our goal is to develop predictive models utilizing comprehensive blood count (CBC) parameters, age, and gender data, harnessing the power of machine learning. These models will ease the identification of anemia, to the benefit of patients, healthcare proffesionals, KEMRi and the MOH. Solving this problem may significantly enhance patient care, improve medical decision-making, and alleviate healthcare burdens, contributing data-driven insights to inform healthcare policies and strategies."
   ]
  },
  {
   "cell_type": "markdown",
   "metadata": {},
   "source": [
    "### (c) Defining Metrics of Success"
   ]
  },
  {
   "cell_type": "markdown",
   "metadata": {},
   "source": [
    "The predictive model will be successful if it provides a well defined picture of health care utilization in respect to age, gender and the Comprehensive Blood Count in the blood sample.\n"
   ]
  },
  {
   "cell_type": "markdown",
   "metadata": {},
   "source": [
    "### (d) Research Questions"
   ]
  },
  {
   "cell_type": "markdown",
   "metadata": {},
   "source": [
    "<br>•Based on CBC, age, and gender, how can we forecast the presence of anemia and its severity as early as possible?\n",
    "<br>•Which age group of the population is most susceptible to anemia?\n",
    "<br>•What are the effects the symptoms and impacts of Anemia to a human body?\n",
    "<br>•What effects does anemia have on the various genders?\n",
    "<br>•What effects does anemia have on people's performance and quality of life?\n"
   ]
  },
  {
   "cell_type": "markdown",
   "metadata": {},
   "source": [
    "### (e) Objectives"
   ]
  },
  {
   "cell_type": "markdown",
   "metadata": {},
   "source": [
    "1. Determine normal reference ranges for key CBC parameters in this population overall and stratified by age and sex\n",
    "2. Examine the relationship between age and abnormal CBC findings\n",
    "3. Calculate the proportion of patients with abnormal results for each CBC parameter\n",
    "4. Compare the prevalence of abnormal CBC results between males and females\n",
    "5. Analyze the association between RBC indices and anemia to understand RBC characteristics in anemic patients\n"
   ]
  },
  {
   "cell_type": "markdown",
   "metadata": {},
   "source": [
    "### (f) Data Understanding\n",
    "The dataset is derived from complete blood count (CBC) tests performed using a Hematology analyzer. The dataset comprises 11 attributes for each patient, including age, gender, and various CBC parameters such as hemoglobin (HGB) level, mean cell volume (MCV), mean cell hemoglobin (MCH), mean cell hemoglobin concentration (MCHC), red cell distribution width (RDW), red blood cell count (RBC), white blood cell count (WBC), platelet count (PLT), and packed cell volume (PCV). The attributes have specific ranges associated with normal values for each parameter. These ranges provide context for evaluating the health status of patients and identifying deviations from the normal ranges that could indicate the presence of anemia.\n",
    "\n",
    "1. **Age:** Numerical attribute representing the current age of the patients. The age range is between 11 and 100 years.\n",
    "\n",
    "2. **Gender:** Categorical attribute representing the gender of the patient. The possible values are Male and Female.\n",
    "\n",
    "3. **Hemoglobin (HGB):** Numerical attribute indicating the level of hemoglobin in the blood. The normal range for hemoglobin is between 11 and 16 g/dL.\n",
    "\n",
    "4. **Mean Cell Volume (MCV):** Numerical attribute indicating the mean volume of a red blood cell. The normal range for MCV is between 80 and 101 fL.\n",
    "\n",
    "5. **Mean Cell Hemoglobin (MCH):** Numerical attribute indicating the mean amount of hemoglobin in a red blood cell. The normal range for MCH is between 27 and 32 pg.\n",
    "\n",
    "6. **Mean Cell Hemoglobin Concentration (MCHC):** Numerical attribute indicating the mean concentration of hemoglobin in a red blood cell. The normal range for MCHC is between 31 and 37 g/dL.\n",
    "\n",
    "7. **Red Cell Distribution Width (RDW):** Numerical attribute indicating the variation in the size of red blood cells. The normal range for RDW is between 11 and 16%.\n",
    "\n",
    "8. **Red Blood Cell Count (RBC):** Numerical attribute indicating the count of red blood cells per microliter of blood. The normal range for RBC is between 3.80 and 4.80 million/uL.\n",
    "\n",
    "9. **White Blood Cell Count (WBC):** Numerical attribute indicating the count of white blood cells per microliter of blood. The normal range for WBC is between 3.5 and 11.5 thousand/uL.\n",
    "\n",
    "10. **Platelet Count (PLT):** Numerical attribute indicating the count of platelets per microliter of blood. The normal range for platelet count is between 150 and 450 thousand/uL.\n",
    "\n",
    "11. **Packed Cell Volume (PCV):** Numerical attribute indicating the volume percentage of red blood cells in whole blood. The normal range for PCV is between 36 and 46.\n",
    "\n"
   ]
  },
  {
   "cell_type": "markdown",
   "metadata": {},
   "source": [
    "### importing necessary libraries"
   ]
  },
  {
   "cell_type": "code",
   "execution_count": 40,
   "metadata": {},
   "outputs": [],
   "source": [
    "import pandas as pd \n",
    "import numpy as np\n",
    "import matplotlib.pyplot as plt\n",
    "import seaborn as sns"
   ]
  },
  {
   "cell_type": "code",
   "execution_count": 41,
   "metadata": {},
   "outputs": [],
   "source": [
    "# loading the dataset\n",
    "df = pd.read_csv(\"CBC data_for_meandeley_csv.csv\")"
   ]
  },
  {
   "cell_type": "code",
   "execution_count": 42,
   "metadata": {},
   "outputs": [
    {
     "data": {
      "text/html": [
       "<div>\n",
       "<style scoped>\n",
       "    .dataframe tbody tr th:only-of-type {\n",
       "        vertical-align: middle;\n",
       "    }\n",
       "\n",
       "    .dataframe tbody tr th {\n",
       "        vertical-align: top;\n",
       "    }\n",
       "\n",
       "    .dataframe thead th {\n",
       "        text-align: right;\n",
       "    }\n",
       "</style>\n",
       "<table border=\"1\" class=\"dataframe\">\n",
       "  <thead>\n",
       "    <tr style=\"text-align: right;\">\n",
       "      <th></th>\n",
       "      <th>S. No.</th>\n",
       "      <th>Age</th>\n",
       "      <th>Sex</th>\n",
       "      <th>RBC</th>\n",
       "      <th>PCV</th>\n",
       "      <th>MCV</th>\n",
       "      <th>MCH</th>\n",
       "      <th>MCHC</th>\n",
       "      <th>RDW</th>\n",
       "      <th>TLC</th>\n",
       "      <th>PLT /mm3</th>\n",
       "      <th>HGB</th>\n",
       "    </tr>\n",
       "  </thead>\n",
       "  <tbody>\n",
       "    <tr>\n",
       "      <th>0</th>\n",
       "      <td>NaN</td>\n",
       "      <td>NaN</td>\n",
       "      <td>NaN</td>\n",
       "      <td>Red Blood Cell count</td>\n",
       "      <td>Packed Cell Volume</td>\n",
       "      <td>Mean Cell Volume</td>\n",
       "      <td>Mean Cell Hemoglobin</td>\n",
       "      <td>NaN</td>\n",
       "      <td>Red Cell Distribution width</td>\n",
       "      <td>White Blood Cell (WBC count),</td>\n",
       "      <td>Platelet</td>\n",
       "      <td>Hemoglobin</td>\n",
       "    </tr>\n",
       "    <tr>\n",
       "      <th>1</th>\n",
       "      <td>1.0</td>\n",
       "      <td>28.0</td>\n",
       "      <td>0.0</td>\n",
       "      <td>5.66</td>\n",
       "      <td>34</td>\n",
       "      <td>60.1</td>\n",
       "      <td>17</td>\n",
       "      <td>28.2</td>\n",
       "      <td>20</td>\n",
       "      <td>11.1</td>\n",
       "      <td>128.3</td>\n",
       "      <td>9.6</td>\n",
       "    </tr>\n",
       "    <tr>\n",
       "      <th>2</th>\n",
       "      <td>2.0</td>\n",
       "      <td>41.0</td>\n",
       "      <td>0.0</td>\n",
       "      <td>4.78</td>\n",
       "      <td>44.5</td>\n",
       "      <td>93.1</td>\n",
       "      <td>28.9</td>\n",
       "      <td>31.0</td>\n",
       "      <td>13</td>\n",
       "      <td>7.02</td>\n",
       "      <td>419</td>\n",
       "      <td>13.8</td>\n",
       "    </tr>\n",
       "    <tr>\n",
       "      <th>3</th>\n",
       "      <td>3.0</td>\n",
       "      <td>40.0</td>\n",
       "      <td>1.0</td>\n",
       "      <td>4.65</td>\n",
       "      <td>41.6</td>\n",
       "      <td>89.5</td>\n",
       "      <td>28.8</td>\n",
       "      <td>32.2</td>\n",
       "      <td>13</td>\n",
       "      <td>8.09</td>\n",
       "      <td>325</td>\n",
       "      <td>13.4</td>\n",
       "    </tr>\n",
       "  </tbody>\n",
       "</table>\n",
       "</div>"
      ],
      "text/plain": [
       "   S. No.  Age        Sex                 RBC                     PCV  \\\n",
       "0     NaN        NaN    NaN  Red Blood Cell count  Packed Cell Volume   \n",
       "1     1.0       28.0    0.0                  5.66                  34   \n",
       "2     2.0       41.0    0.0                  4.78                44.5   \n",
       "3     3.0       40.0    1.0                  4.65                41.6   \n",
       "\n",
       "              MCV                     MCH   MCHC    \\\n",
       "0  Mean Cell Volume  Mean Cell Hemoglobin      NaN   \n",
       "1              60.1                    17     28.2   \n",
       "2              93.1                  28.9     31.0   \n",
       "3              89.5                  28.8     32.2   \n",
       "\n",
       "                       RDW                                TLC  PLT /mm3  \\\n",
       "0  Red Cell Distribution width  White Blood Cell (WBC count),  Platelet   \n",
       "1                           20                           11.1     128.3   \n",
       "2                           13                           7.02       419   \n",
       "3                           13                           8.09       325   \n",
       "\n",
       "         HGB   \n",
       "0  Hemoglobin  \n",
       "1         9.6  \n",
       "2        13.8  \n",
       "3        13.4  "
      ]
     },
     "execution_count": 42,
     "metadata": {},
     "output_type": "execute_result"
    }
   ],
   "source": [
    "df.head(4)"
   ]
  },
  {
   "cell_type": "markdown",
   "metadata": {},
   "source": [
    "The data seems to have two column names. "
   ]
  },
  {
   "cell_type": "code",
   "execution_count": 43,
   "metadata": {},
   "outputs": [
    {
     "data": {
      "text/html": [
       "<div>\n",
       "<style scoped>\n",
       "    .dataframe tbody tr th:only-of-type {\n",
       "        vertical-align: middle;\n",
       "    }\n",
       "\n",
       "    .dataframe tbody tr th {\n",
       "        vertical-align: top;\n",
       "    }\n",
       "\n",
       "    .dataframe thead th {\n",
       "        text-align: right;\n",
       "    }\n",
       "</style>\n",
       "<table border=\"1\" class=\"dataframe\">\n",
       "  <thead>\n",
       "    <tr style=\"text-align: right;\">\n",
       "      <th></th>\n",
       "      <th>S.NO</th>\n",
       "      <th>Age</th>\n",
       "      <th>Sex</th>\n",
       "      <th>Red Blood Cell count</th>\n",
       "      <th>Packed Cell Volume</th>\n",
       "      <th>Mean Cell Volume</th>\n",
       "      <th>Mean Cell Hemoglobin</th>\n",
       "      <th>MCHC</th>\n",
       "      <th>Red Cell Distribution width</th>\n",
       "      <th>White Blood Cell (WBC count)</th>\n",
       "      <th>Platelet</th>\n",
       "      <th>Hemoglobin</th>\n",
       "    </tr>\n",
       "  </thead>\n",
       "  <tbody>\n",
       "    <tr>\n",
       "      <th>0</th>\n",
       "      <td>NaN</td>\n",
       "      <td>NaN</td>\n",
       "      <td>NaN</td>\n",
       "      <td>Red Blood Cell count</td>\n",
       "      <td>Packed Cell Volume</td>\n",
       "      <td>Mean Cell Volume</td>\n",
       "      <td>Mean Cell Hemoglobin</td>\n",
       "      <td>NaN</td>\n",
       "      <td>Red Cell Distribution width</td>\n",
       "      <td>White Blood Cell (WBC count),</td>\n",
       "      <td>Platelet</td>\n",
       "      <td>Hemoglobin</td>\n",
       "    </tr>\n",
       "    <tr>\n",
       "      <th>1</th>\n",
       "      <td>1.0</td>\n",
       "      <td>28.0</td>\n",
       "      <td>0.0</td>\n",
       "      <td>5.66</td>\n",
       "      <td>34</td>\n",
       "      <td>60.1</td>\n",
       "      <td>17</td>\n",
       "      <td>28.2</td>\n",
       "      <td>20</td>\n",
       "      <td>11.1</td>\n",
       "      <td>128.3</td>\n",
       "      <td>9.6</td>\n",
       "    </tr>\n",
       "    <tr>\n",
       "      <th>2</th>\n",
       "      <td>2.0</td>\n",
       "      <td>41.0</td>\n",
       "      <td>0.0</td>\n",
       "      <td>4.78</td>\n",
       "      <td>44.5</td>\n",
       "      <td>93.1</td>\n",
       "      <td>28.9</td>\n",
       "      <td>31.0</td>\n",
       "      <td>13</td>\n",
       "      <td>7.02</td>\n",
       "      <td>419</td>\n",
       "      <td>13.8</td>\n",
       "    </tr>\n",
       "    <tr>\n",
       "      <th>3</th>\n",
       "      <td>3.0</td>\n",
       "      <td>40.0</td>\n",
       "      <td>1.0</td>\n",
       "      <td>4.65</td>\n",
       "      <td>41.6</td>\n",
       "      <td>89.5</td>\n",
       "      <td>28.8</td>\n",
       "      <td>32.2</td>\n",
       "      <td>13</td>\n",
       "      <td>8.09</td>\n",
       "      <td>325</td>\n",
       "      <td>13.4</td>\n",
       "    </tr>\n",
       "    <tr>\n",
       "      <th>4</th>\n",
       "      <td>4.0</td>\n",
       "      <td>76.0</td>\n",
       "      <td>0.0</td>\n",
       "      <td>4.24</td>\n",
       "      <td>36.7</td>\n",
       "      <td>86.6</td>\n",
       "      <td>26.7</td>\n",
       "      <td>30.8</td>\n",
       "      <td>14.9</td>\n",
       "      <td>13.41</td>\n",
       "      <td>264</td>\n",
       "      <td>11.3</td>\n",
       "    </tr>\n",
       "  </tbody>\n",
       "</table>\n",
       "</div>"
      ],
      "text/plain": [
       "   S.NO   Age  Sex  Red Blood Cell count  Packed Cell Volume  \\\n",
       "0   NaN   NaN  NaN  Red Blood Cell count  Packed Cell Volume   \n",
       "1   1.0  28.0  0.0                  5.66                  34   \n",
       "2   2.0  41.0  0.0                  4.78                44.5   \n",
       "3   3.0  40.0  1.0                  4.65                41.6   \n",
       "4   4.0  76.0  0.0                  4.24                36.7   \n",
       "\n",
       "   Mean Cell Volume  Mean Cell Hemoglobin  MCHC  Red Cell Distribution width  \\\n",
       "0  Mean Cell Volume  Mean Cell Hemoglobin   NaN  Red Cell Distribution width   \n",
       "1              60.1                    17  28.2                           20   \n",
       "2              93.1                  28.9  31.0                           13   \n",
       "3              89.5                  28.8  32.2                           13   \n",
       "4              86.6                  26.7  30.8                         14.9   \n",
       "\n",
       "    White Blood Cell (WBC count)  Platelet  Hemoglobin  \n",
       "0  White Blood Cell (WBC count),  Platelet  Hemoglobin  \n",
       "1                           11.1     128.3         9.6  \n",
       "2                           7.02       419        13.8  \n",
       "3                           8.09       325        13.4  \n",
       "4                          13.41       264        11.3  "
      ]
     },
     "execution_count": 43,
     "metadata": {},
     "output_type": "execute_result"
    }
   ],
   "source": [
    "#changing column names\n",
    "names = [\"S.NO\",\"Age\",\"Sex\",\"Red Blood Cell count\",\n",
    "                 \t\"Packed Cell Volume\",\"Mean Cell Volume\",\n",
    "                    \"Mean Cell Hemoglobin\",\t\"MCHC\",\"Red Cell Distribution width\",\n",
    "                    \"White Blood Cell (WBC count)\",\"Platelet\",\"Hemoglobin\"]\n",
    "df.columns = names\n",
    "df.head()"
   ]
  },
  {
   "cell_type": "markdown",
   "metadata": {},
   "source": [
    "dropping the first row and the first column"
   ]
  },
  {
   "cell_type": "code",
   "execution_count": 44,
   "metadata": {},
   "outputs": [
    {
     "data": {
      "text/html": [
       "<div>\n",
       "<style scoped>\n",
       "    .dataframe tbody tr th:only-of-type {\n",
       "        vertical-align: middle;\n",
       "    }\n",
       "\n",
       "    .dataframe tbody tr th {\n",
       "        vertical-align: top;\n",
       "    }\n",
       "\n",
       "    .dataframe thead th {\n",
       "        text-align: right;\n",
       "    }\n",
       "</style>\n",
       "<table border=\"1\" class=\"dataframe\">\n",
       "  <thead>\n",
       "    <tr style=\"text-align: right;\">\n",
       "      <th></th>\n",
       "      <th>Age</th>\n",
       "      <th>Sex</th>\n",
       "      <th>Red Blood Cell count</th>\n",
       "      <th>Packed Cell Volume</th>\n",
       "      <th>Mean Cell Volume</th>\n",
       "      <th>Mean Cell Hemoglobin</th>\n",
       "      <th>MCHC</th>\n",
       "      <th>Red Cell Distribution width</th>\n",
       "      <th>White Blood Cell (WBC count)</th>\n",
       "      <th>Platelet</th>\n",
       "      <th>Hemoglobin</th>\n",
       "    </tr>\n",
       "  </thead>\n",
       "  <tbody>\n",
       "    <tr>\n",
       "      <th>1</th>\n",
       "      <td>28.0</td>\n",
       "      <td>0.0</td>\n",
       "      <td>5.66</td>\n",
       "      <td>34</td>\n",
       "      <td>60.1</td>\n",
       "      <td>17</td>\n",
       "      <td>28.2</td>\n",
       "      <td>20</td>\n",
       "      <td>11.1</td>\n",
       "      <td>128.3</td>\n",
       "      <td>9.6</td>\n",
       "    </tr>\n",
       "    <tr>\n",
       "      <th>2</th>\n",
       "      <td>41.0</td>\n",
       "      <td>0.0</td>\n",
       "      <td>4.78</td>\n",
       "      <td>44.5</td>\n",
       "      <td>93.1</td>\n",
       "      <td>28.9</td>\n",
       "      <td>31.0</td>\n",
       "      <td>13</td>\n",
       "      <td>7.02</td>\n",
       "      <td>419</td>\n",
       "      <td>13.8</td>\n",
       "    </tr>\n",
       "    <tr>\n",
       "      <th>3</th>\n",
       "      <td>40.0</td>\n",
       "      <td>1.0</td>\n",
       "      <td>4.65</td>\n",
       "      <td>41.6</td>\n",
       "      <td>89.5</td>\n",
       "      <td>28.8</td>\n",
       "      <td>32.2</td>\n",
       "      <td>13</td>\n",
       "      <td>8.09</td>\n",
       "      <td>325</td>\n",
       "      <td>13.4</td>\n",
       "    </tr>\n",
       "    <tr>\n",
       "      <th>4</th>\n",
       "      <td>76.0</td>\n",
       "      <td>0.0</td>\n",
       "      <td>4.24</td>\n",
       "      <td>36.7</td>\n",
       "      <td>86.6</td>\n",
       "      <td>26.7</td>\n",
       "      <td>30.8</td>\n",
       "      <td>14.9</td>\n",
       "      <td>13.41</td>\n",
       "      <td>264</td>\n",
       "      <td>11.3</td>\n",
       "    </tr>\n",
       "    <tr>\n",
       "      <th>5</th>\n",
       "      <td>20.0</td>\n",
       "      <td>1.0</td>\n",
       "      <td>4.14</td>\n",
       "      <td>36.9</td>\n",
       "      <td>89.1</td>\n",
       "      <td>27.8</td>\n",
       "      <td>31.2</td>\n",
       "      <td>13.2</td>\n",
       "      <td>4.75</td>\n",
       "      <td>196</td>\n",
       "      <td>11.5</td>\n",
       "    </tr>\n",
       "  </tbody>\n",
       "</table>\n",
       "</div>"
      ],
      "text/plain": [
       "    Age  Sex Red Blood Cell count Packed Cell Volume Mean Cell Volume  \\\n",
       "1  28.0  0.0                 5.66                 34             60.1   \n",
       "2  41.0  0.0                 4.78               44.5             93.1   \n",
       "3  40.0  1.0                 4.65               41.6             89.5   \n",
       "4  76.0  0.0                 4.24               36.7             86.6   \n",
       "5  20.0  1.0                 4.14               36.9             89.1   \n",
       "\n",
       "  Mean Cell Hemoglobin  MCHC Red Cell Distribution width  \\\n",
       "1                   17  28.2                          20   \n",
       "2                 28.9  31.0                          13   \n",
       "3                 28.8  32.2                          13   \n",
       "4                 26.7  30.8                        14.9   \n",
       "5                 27.8  31.2                        13.2   \n",
       "\n",
       "  White Blood Cell (WBC count) Platelet Hemoglobin  \n",
       "1                         11.1    128.3        9.6  \n",
       "2                         7.02      419       13.8  \n",
       "3                         8.09      325       13.4  \n",
       "4                        13.41      264       11.3  \n",
       "5                         4.75      196       11.5  "
      ]
     },
     "execution_count": 44,
     "metadata": {},
     "output_type": "execute_result"
    }
   ],
   "source": [
    "#dropping the first row\n",
    "df = df.drop([0],axis=0)\n",
    "df.drop(\"S.NO\",axis = 1, inplace = True)\n",
    "df.head()"
   ]
  },
  {
   "cell_type": "markdown",
   "metadata": {},
   "source": [
    "Getting the shape of the data"
   ]
  },
  {
   "cell_type": "code",
   "execution_count": 45,
   "metadata": {},
   "outputs": [
    {
     "data": {
      "text/plain": [
       "(373, 11)"
      ]
     },
     "execution_count": 45,
     "metadata": {},
     "output_type": "execute_result"
    }
   ],
   "source": [
    "# shape of the data\n",
    "df.shape"
   ]
  },
  {
   "cell_type": "markdown",
   "metadata": {},
   "source": [
    "The dataset has 12 columns and 373 rows"
   ]
  },
  {
   "cell_type": "code",
   "execution_count": 46,
   "metadata": {},
   "outputs": [
    {
     "data": {
      "text/html": [
       "<div>\n",
       "<style scoped>\n",
       "    .dataframe tbody tr th:only-of-type {\n",
       "        vertical-align: middle;\n",
       "    }\n",
       "\n",
       "    .dataframe tbody tr th {\n",
       "        vertical-align: top;\n",
       "    }\n",
       "\n",
       "    .dataframe thead th {\n",
       "        text-align: right;\n",
       "    }\n",
       "</style>\n",
       "<table border=\"1\" class=\"dataframe\">\n",
       "  <thead>\n",
       "    <tr style=\"text-align: right;\">\n",
       "      <th></th>\n",
       "      <th>DataType</th>\n",
       "    </tr>\n",
       "  </thead>\n",
       "  <tbody>\n",
       "    <tr>\n",
       "      <th>Age</th>\n",
       "      <td>float64</td>\n",
       "    </tr>\n",
       "    <tr>\n",
       "      <th>Sex</th>\n",
       "      <td>float64</td>\n",
       "    </tr>\n",
       "    <tr>\n",
       "      <th>Red Blood Cell count</th>\n",
       "      <td>object</td>\n",
       "    </tr>\n",
       "    <tr>\n",
       "      <th>Packed Cell Volume</th>\n",
       "      <td>object</td>\n",
       "    </tr>\n",
       "    <tr>\n",
       "      <th>Mean Cell Volume</th>\n",
       "      <td>object</td>\n",
       "    </tr>\n",
       "    <tr>\n",
       "      <th>Mean Cell Hemoglobin</th>\n",
       "      <td>object</td>\n",
       "    </tr>\n",
       "    <tr>\n",
       "      <th>MCHC</th>\n",
       "      <td>float64</td>\n",
       "    </tr>\n",
       "    <tr>\n",
       "      <th>Red Cell Distribution width</th>\n",
       "      <td>object</td>\n",
       "    </tr>\n",
       "    <tr>\n",
       "      <th>White Blood Cell (WBC count)</th>\n",
       "      <td>object</td>\n",
       "    </tr>\n",
       "    <tr>\n",
       "      <th>Platelet</th>\n",
       "      <td>object</td>\n",
       "    </tr>\n",
       "    <tr>\n",
       "      <th>Hemoglobin</th>\n",
       "      <td>object</td>\n",
       "    </tr>\n",
       "  </tbody>\n",
       "</table>\n",
       "</div>"
      ],
      "text/plain": [
       "                             DataType\n",
       "Age                           float64\n",
       "Sex                           float64\n",
       "Red Blood Cell count           object\n",
       "Packed Cell Volume             object\n",
       "Mean Cell Volume               object\n",
       "Mean Cell Hemoglobin           object\n",
       "MCHC                          float64\n",
       "Red Cell Distribution width    object\n",
       "White Blood Cell (WBC count)   object\n",
       "Platelet                       object\n",
       "Hemoglobin                     object"
      ]
     },
     "execution_count": 46,
     "metadata": {},
     "output_type": "execute_result"
    }
   ],
   "source": [
    "# datatypes of different columns in the data set\n",
    "datatypes = df.dtypes\n",
    "dname = [ \"DataType\"]\n",
    "dtypedf=pd.DataFrame(datatypes )\n",
    "dtypedf.columns = dname\n",
    "dtypedf"
   ]
  },
  {
   "cell_type": "markdown",
   "metadata": {},
   "source": [
    "The dataset has a both columns which are strings and floats."
   ]
  },
  {
   "cell_type": "code",
   "execution_count": 47,
   "metadata": {},
   "outputs": [
    {
     "data": {
      "text/plain": [
       "Age                             9\n",
       "Sex                             9\n",
       "Red Blood Cell count            9\n",
       "Packed Cell Volume              9\n",
       "Mean Cell Volume                9\n",
       "Mean Cell Hemoglobin            9\n",
       "MCHC                            9\n",
       "Red Cell Distribution width     9\n",
       "White Blood Cell (WBC count)    9\n",
       "Platelet                        9\n",
       "Hemoglobin                      9\n",
       "dtype: int64"
      ]
     },
     "execution_count": 47,
     "metadata": {},
     "output_type": "execute_result"
    }
   ],
   "source": [
    "# sum of missing data per column\n",
    "df.isna().sum()"
   ]
  },
  {
   "cell_type": "code",
   "execution_count": 48,
   "metadata": {},
   "outputs": [],
   "source": [
    "#dropping the missing data\n",
    "df.dropna(inplace = True)"
   ]
  },
  {
   "cell_type": "markdown",
   "metadata": {},
   "source": [
    "Checking for duplicate"
   ]
  },
  {
   "cell_type": "code",
   "execution_count": 49,
   "metadata": {},
   "outputs": [
    {
     "data": {
      "text/plain": [
       "8"
      ]
     },
     "execution_count": 49,
     "metadata": {},
     "output_type": "execute_result"
    }
   ],
   "source": [
    "df.duplicated().sum()"
   ]
  },
  {
   "cell_type": "markdown",
   "metadata": {},
   "source": [
    "df.isna().sum()"
   ]
  },
  {
   "cell_type": "code",
   "execution_count": 52,
   "metadata": {},
   "outputs": [],
   "source": [
    "The data has no duplicated elements"
   ]
  },
  {
   "cell_type": "markdown",
   "metadata": {},
   "source": [
    "The data has no duplicated elements"
   ]
  },
  {
   "cell_type": "markdown",
   "metadata": {},
   "source": [
    "converting the data types into their respective data type"
   ]
  },
  {
   "cell_type": "code",
   "execution_count": 54,
   "metadata": {},
   "outputs": [],
   "source": [
    "# Convert columns to respective data types\n",
    "df[\"Age\"] = df[\"Age\"].astype(float)\n",
    "df[\"Sex\"] = df[\"Sex\"].astype(float)\n",
    "df[\"Red Blood Cell count\"] = df[\"Red Blood Cell count\"].astype(float)\n",
    "df[\"Packed Cell Volume\"] = df[\"Packed Cell Volume\"].astype(float)\n",
    "df[\"Mean Cell Volume\"] = df[\"Mean Cell Volume\"].astype(float)\n",
    "df[\"Mean Cell Hemoglobin\"] = df[\"Mean Cell Hemoglobin\"].astype(float)\n",
    "df[\"MCHC\"] = df[\"MCHC\"].astype(float)\n",
    "df[\"Red Cell Distribution width\"] = df[\"Red Cell Distribution width\"].astype(float)\n",
    "df[\"White Blood Cell (WBC count)\"] = df[\"White Blood Cell (WBC count)\"].astype(float)\n",
    "df[\"Platelet\"] = df[\"Platelet\"].astype(float)\n",
    "df[\"Hemoglobin\"] = df[\"Hemoglobin\"].astype(float)"
   ]
  },
  {
   "cell_type": "code",
   "execution_count": 55,
   "metadata": {},
   "outputs": [
    {
     "data": {
      "text/html": [
       "<div>\n",
       "<style scoped>\n",
       "    .dataframe tbody tr th:only-of-type {\n",
       "        vertical-align: middle;\n",
       "    }\n",
       "\n",
       "    .dataframe tbody tr th {\n",
       "        vertical-align: top;\n",
       "    }\n",
       "\n",
       "    .dataframe thead th {\n",
       "        text-align: right;\n",
       "    }\n",
       "</style>\n",
       "<table border=\"1\" class=\"dataframe\">\n",
       "  <thead>\n",
       "    <tr style=\"text-align: right;\">\n",
       "      <th></th>\n",
       "      <th>Age</th>\n",
       "      <th>Sex</th>\n",
       "      <th>Red Blood Cell count</th>\n",
       "      <th>Packed Cell Volume</th>\n",
       "      <th>Mean Cell Volume</th>\n",
       "      <th>Mean Cell Hemoglobin</th>\n",
       "      <th>MCHC</th>\n",
       "      <th>Red Cell Distribution width</th>\n",
       "      <th>White Blood Cell (WBC count)</th>\n",
       "      <th>Platelet</th>\n",
       "      <th>Hemoglobin</th>\n",
       "    </tr>\n",
       "  </thead>\n",
       "  <tbody>\n",
       "    <tr>\n",
       "      <th>1</th>\n",
       "      <td>28.0</td>\n",
       "      <td>0.0</td>\n",
       "      <td>5.66</td>\n",
       "      <td>34.0</td>\n",
       "      <td>60.1</td>\n",
       "      <td>17.0</td>\n",
       "      <td>28.2</td>\n",
       "      <td>20.0</td>\n",
       "      <td>11.0</td>\n",
       "      <td>128.3</td>\n",
       "      <td>9.6</td>\n",
       "    </tr>\n",
       "    <tr>\n",
       "      <th>2</th>\n",
       "      <td>41.0</td>\n",
       "      <td>0.0</td>\n",
       "      <td>4.78</td>\n",
       "      <td>44.5</td>\n",
       "      <td>93.1</td>\n",
       "      <td>28.9</td>\n",
       "      <td>31.0</td>\n",
       "      <td>13.0</td>\n",
       "      <td>7.0</td>\n",
       "      <td>419.0</td>\n",
       "      <td>13.8</td>\n",
       "    </tr>\n",
       "    <tr>\n",
       "      <th>3</th>\n",
       "      <td>40.0</td>\n",
       "      <td>1.0</td>\n",
       "      <td>4.65</td>\n",
       "      <td>41.6</td>\n",
       "      <td>89.5</td>\n",
       "      <td>28.8</td>\n",
       "      <td>32.2</td>\n",
       "      <td>13.0</td>\n",
       "      <td>8.0</td>\n",
       "      <td>325.0</td>\n",
       "      <td>13.4</td>\n",
       "    </tr>\n",
       "    <tr>\n",
       "      <th>4</th>\n",
       "      <td>76.0</td>\n",
       "      <td>0.0</td>\n",
       "      <td>4.24</td>\n",
       "      <td>36.7</td>\n",
       "      <td>86.6</td>\n",
       "      <td>26.7</td>\n",
       "      <td>30.8</td>\n",
       "      <td>14.9</td>\n",
       "      <td>13.0</td>\n",
       "      <td>264.0</td>\n",
       "      <td>11.3</td>\n",
       "    </tr>\n",
       "    <tr>\n",
       "      <th>5</th>\n",
       "      <td>20.0</td>\n",
       "      <td>1.0</td>\n",
       "      <td>4.14</td>\n",
       "      <td>36.9</td>\n",
       "      <td>89.1</td>\n",
       "      <td>27.8</td>\n",
       "      <td>31.2</td>\n",
       "      <td>13.2</td>\n",
       "      <td>4.0</td>\n",
       "      <td>196.0</td>\n",
       "      <td>11.5</td>\n",
       "    </tr>\n",
       "  </tbody>\n",
       "</table>\n",
       "</div>"
      ],
      "text/plain": [
       "    Age  Sex  Red Blood Cell count  Packed Cell Volume  Mean Cell Volume  \\\n",
       "1  28.0  0.0                  5.66                34.0              60.1   \n",
       "2  41.0  0.0                  4.78                44.5              93.1   \n",
       "3  40.0  1.0                  4.65                41.6              89.5   \n",
       "4  76.0  0.0                  4.24                36.7              86.6   \n",
       "5  20.0  1.0                  4.14                36.9              89.1   \n",
       "\n",
       "   Mean Cell Hemoglobin  MCHC  Red Cell Distribution width  \\\n",
       "1                  17.0  28.2                         20.0   \n",
       "2                  28.9  31.0                         13.0   \n",
       "3                  28.8  32.2                         13.0   \n",
       "4                  26.7  30.8                         14.9   \n",
       "5                  27.8  31.2                         13.2   \n",
       "\n",
       "   White Blood Cell (WBC count)  Platelet  Hemoglobin  \n",
       "1                          11.0     128.3         9.6  \n",
       "2                           7.0     419.0        13.8  \n",
       "3                           8.0     325.0        13.4  \n",
       "4                          13.0     264.0        11.3  \n",
       "5                           4.0     196.0        11.5  "
      ]
     },
     "execution_count": 55,
     "metadata": {},
     "output_type": "execute_result"
    }
   ],
   "source": [
    "df.head()"
   ]
  },
  {
   "cell_type": "code",
   "execution_count": 56,
   "metadata": {},
   "outputs": [
    {
     "data": {
      "text/plain": [
       "Age                             float64\n",
       "Sex                             float64\n",
       "Red Blood Cell count            float64\n",
       "Packed Cell Volume              float64\n",
       "Mean Cell Volume                float64\n",
       "Mean Cell Hemoglobin            float64\n",
       "MCHC                            float64\n",
       "Red Cell Distribution width     float64\n",
       "White Blood Cell (WBC count)    float64\n",
       "Platelet                        float64\n",
       "Hemoglobin                      float64\n",
       "dtype: object"
      ]
     },
     "execution_count": 56,
     "metadata": {},
     "output_type": "execute_result"
    }
   ],
   "source": [
    "df.dtypes"
   ]
  },
  {
   "cell_type": "markdown",
   "metadata": {},
   "source": [
    "statistical summary"
   ]
  },
  {
   "cell_type": "code",
   "execution_count": 57,
   "metadata": {},
   "outputs": [
    {
     "data": {
      "text/html": [
       "<div>\n",
       "<style scoped>\n",
       "    .dataframe tbody tr th:only-of-type {\n",
       "        vertical-align: middle;\n",
       "    }\n",
       "\n",
       "    .dataframe tbody tr th {\n",
       "        vertical-align: top;\n",
       "    }\n",
       "\n",
       "    .dataframe thead th {\n",
       "        text-align: right;\n",
       "    }\n",
       "</style>\n",
       "<table border=\"1\" class=\"dataframe\">\n",
       "  <thead>\n",
       "    <tr style=\"text-align: right;\">\n",
       "      <th></th>\n",
       "      <th>count</th>\n",
       "      <th>mean</th>\n",
       "      <th>std</th>\n",
       "      <th>min</th>\n",
       "      <th>25%</th>\n",
       "      <th>50%</th>\n",
       "      <th>75%</th>\n",
       "      <th>max</th>\n",
       "    </tr>\n",
       "  </thead>\n",
       "  <tbody>\n",
       "    <tr>\n",
       "      <th>Age</th>\n",
       "      <td>364.0</td>\n",
       "      <td>44.917582</td>\n",
       "      <td>18.780854</td>\n",
       "      <td>11.00</td>\n",
       "      <td>28.000</td>\n",
       "      <td>44.500</td>\n",
       "      <td>60.000</td>\n",
       "      <td>89.0</td>\n",
       "    </tr>\n",
       "    <tr>\n",
       "      <th>Sex</th>\n",
       "      <td>364.0</td>\n",
       "      <td>0.442308</td>\n",
       "      <td>0.497344</td>\n",
       "      <td>0.00</td>\n",
       "      <td>0.000</td>\n",
       "      <td>0.000</td>\n",
       "      <td>1.000</td>\n",
       "      <td>1.0</td>\n",
       "    </tr>\n",
       "    <tr>\n",
       "      <th>Red Blood Cell count</th>\n",
       "      <td>364.0</td>\n",
       "      <td>4.278736</td>\n",
       "      <td>0.820166</td>\n",
       "      <td>1.36</td>\n",
       "      <td>3.780</td>\n",
       "      <td>4.335</td>\n",
       "      <td>4.800</td>\n",
       "      <td>6.9</td>\n",
       "    </tr>\n",
       "    <tr>\n",
       "      <th>Packed Cell Volume</th>\n",
       "      <td>364.0</td>\n",
       "      <td>36.762912</td>\n",
       "      <td>6.830835</td>\n",
       "      <td>13.10</td>\n",
       "      <td>32.900</td>\n",
       "      <td>36.800</td>\n",
       "      <td>41.850</td>\n",
       "      <td>56.9</td>\n",
       "    </tr>\n",
       "    <tr>\n",
       "      <th>Mean Cell Volume</th>\n",
       "      <td>364.0</td>\n",
       "      <td>87.509121</td>\n",
       "      <td>9.332164</td>\n",
       "      <td>55.70</td>\n",
       "      <td>83.175</td>\n",
       "      <td>87.950</td>\n",
       "      <td>91.875</td>\n",
       "      <td>124.1</td>\n",
       "    </tr>\n",
       "    <tr>\n",
       "      <th>Mean Cell Hemoglobin</th>\n",
       "      <td>364.0</td>\n",
       "      <td>28.227143</td>\n",
       "      <td>3.865998</td>\n",
       "      <td>14.70</td>\n",
       "      <td>26.300</td>\n",
       "      <td>28.200</td>\n",
       "      <td>30.400</td>\n",
       "      <td>41.4</td>\n",
       "    </tr>\n",
       "    <tr>\n",
       "      <th>MCHC</th>\n",
       "      <td>364.0</td>\n",
       "      <td>32.053407</td>\n",
       "      <td>2.801790</td>\n",
       "      <td>23.60</td>\n",
       "      <td>30.300</td>\n",
       "      <td>31.700</td>\n",
       "      <td>33.300</td>\n",
       "      <td>50.2</td>\n",
       "    </tr>\n",
       "    <tr>\n",
       "      <th>Red Cell Distribution width</th>\n",
       "      <td>364.0</td>\n",
       "      <td>15.116511</td>\n",
       "      <td>2.176557</td>\n",
       "      <td>10.60</td>\n",
       "      <td>13.600</td>\n",
       "      <td>14.800</td>\n",
       "      <td>16.100</td>\n",
       "      <td>29.2</td>\n",
       "    </tr>\n",
       "    <tr>\n",
       "      <th>White Blood Cell (WBC count)</th>\n",
       "      <td>364.0</td>\n",
       "      <td>8.398352</td>\n",
       "      <td>4.858108</td>\n",
       "      <td>2.00</td>\n",
       "      <td>5.000</td>\n",
       "      <td>7.000</td>\n",
       "      <td>10.000</td>\n",
       "      <td>42.0</td>\n",
       "    </tr>\n",
       "    <tr>\n",
       "      <th>Platelet</th>\n",
       "      <td>364.0</td>\n",
       "      <td>223.750824</td>\n",
       "      <td>99.407153</td>\n",
       "      <td>10.00</td>\n",
       "      <td>153.000</td>\n",
       "      <td>210.000</td>\n",
       "      <td>268.250</td>\n",
       "      <td>660.0</td>\n",
       "    </tr>\n",
       "    <tr>\n",
       "      <th>Hemoglobin</th>\n",
       "      <td>364.0</td>\n",
       "      <td>11.907692</td>\n",
       "      <td>2.186686</td>\n",
       "      <td>4.20</td>\n",
       "      <td>10.600</td>\n",
       "      <td>12.100</td>\n",
       "      <td>13.400</td>\n",
       "      <td>19.6</td>\n",
       "    </tr>\n",
       "  </tbody>\n",
       "</table>\n",
       "</div>"
      ],
      "text/plain": [
       "                              count        mean        std    min      25%  \\\n",
       "Age                           364.0   44.917582  18.780854  11.00   28.000   \n",
       "Sex                           364.0    0.442308   0.497344   0.00    0.000   \n",
       "Red Blood Cell count          364.0    4.278736   0.820166   1.36    3.780   \n",
       "Packed Cell Volume            364.0   36.762912   6.830835  13.10   32.900   \n",
       "Mean Cell Volume              364.0   87.509121   9.332164  55.70   83.175   \n",
       "Mean Cell Hemoglobin          364.0   28.227143   3.865998  14.70   26.300   \n",
       "MCHC                          364.0   32.053407   2.801790  23.60   30.300   \n",
       "Red Cell Distribution width   364.0   15.116511   2.176557  10.60   13.600   \n",
       "White Blood Cell (WBC count)  364.0    8.398352   4.858108   2.00    5.000   \n",
       "Platelet                      364.0  223.750824  99.407153  10.00  153.000   \n",
       "Hemoglobin                    364.0   11.907692   2.186686   4.20   10.600   \n",
       "\n",
       "                                  50%      75%    max  \n",
       "Age                            44.500   60.000   89.0  \n",
       "Sex                             0.000    1.000    1.0  \n",
       "Red Blood Cell count            4.335    4.800    6.9  \n",
       "Packed Cell Volume             36.800   41.850   56.9  \n",
       "Mean Cell Volume               87.950   91.875  124.1  \n",
       "Mean Cell Hemoglobin           28.200   30.400   41.4  \n",
       "MCHC                           31.700   33.300   50.2  \n",
       "Red Cell Distribution width    14.800   16.100   29.2  \n",
       "White Blood Cell (WBC count)    7.000   10.000   42.0  \n",
       "Platelet                      210.000  268.250  660.0  \n",
       "Hemoglobin                     12.100   13.400   19.6  "
      ]
     },
     "execution_count": 57,
     "metadata": {},
     "output_type": "execute_result"
    }
   ],
   "source": [
    "df.describe().T"
   ]
  },
  {
   "cell_type": "markdown",
   "metadata": {},
   "source": [
    "Checking for outliers using boxplot"
   ]
  },
  {
   "cell_type": "code",
   "execution_count": 66,
   "metadata": {
    "scrolled": false
   },
   "outputs": [
    {
     "data": {
      "image/png": "[encoded data removed]",
      "text/plain": [
       "<Figure size 1500x1200 with 12 Axes>"
      ]
     },
     "metadata": {},
     "output_type": "display_data"
    }
   ],
   "source": [
    "selected_columns = [\n",
    "    'Age',\n",
    "    'Sex',\n",
    "    'Red Blood Cell count',\n",
    "    'Packed Cell Volume',\n",
    "    'Mean Cell Volume',\n",
    "    'Mean Cell Hemoglobin',\n",
    "    'MCHC',\n",
    "    'Red Cell Distribution width',\n",
    "    'White Blood Cell (WBC count)',\n",
    "    'Platelet',\n",
    "    'Hemoglobin'\n",
    "]\n",
    "# Determine the number of rows and columns for the grid\n",
    "num_rows = 4\n",
    "num_cols = 3\n",
    "# Create a grid of boxplots\n",
    "fig, axes = plt.subplots(nrows=num_rows, ncols=num_cols, figsize=(15, 12))\n",
    "axes = axes.flatten()\n",
    "\n",
    "# Create individual labeled boxplots for each column\n",
    "for i, column in enumerate(selected_columns):\n",
    "    ax = axes[i]\n",
    "    df.boxplot(column=column, ax=ax)\n",
    "    ax.set_title(f'Boxplot for {column}')\n",
    "    ax.set_ylabel('Value')\n",
    "\n",
    "# Adjust layout\n",
    "plt.tight_layout()\n",
    "plt.show()\n"
   ]
  },
  {
   "cell_type": "code",
   "execution_count": null,
   "metadata": {},
   "outputs": [],
   "source": []
  },
  {
   "cell_type": "code",
   "execution_count": null,
   "metadata": {},
   "outputs": [],
   "source": []
  }
 ],
 "metadata": {
  "kernelspec": {
   "display_name": "Python 3 (ipykernel)",
   "language": "python",
   "name": "python3"
  },
  "language_info": {
   "codemirror_mode": {
    "name": "ipython",
    "version": 3
   },
   "file_extension": ".py",
   "mimetype": "text/x-python",
   "name": "python",
   "nbconvert_exporter": "python",
   "pygments_lexer": "ipython3",
   "version": "3.10.9"
  }
 },
 "nbformat": 4,
 "nbformat_minor": 2
}
