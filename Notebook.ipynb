{
 "cells": [
  {
   "cell_type": "markdown",
   "metadata": {},
   "source": [
    "# Anemia Detection and Severity Classification in Kenya : A predictive statistics"
   ]
  },
  {
   "cell_type": "markdown",
   "metadata": {},
   "source": [
    "## 1. Business Understanding"
   ]
  },
  {
   "cell_type": "markdown",
   "metadata": {},
   "source": [
    "### (a) Introduction"
   ]
  },
  {
   "cell_type": "markdown",
   "metadata": {},
   "source": [
    "The Kenya Medical Research Institute(KEMRI) is a state corporation established in Kenya in 1979 through the Science and Technology Act, Cap 250 of the Laws of Kenya. It operates under the Science Technology and Innovation Act, 2013 as the national body responsible for carrying out research in human health in Kenya. KEMRI is the medical research arm of the government and provides advice to the Ministry of Health(MOH) on various aspects of healthcare and delivery.\n",
    "\n",
    "KEMRI's mission is to improve human health and quality of life through research , capacity builging , innovation and service delivery. The Institute conducts research under seven research programs including Biotechnology, Public Health and Health Systems, Sexual Reproductive Adolescent and Child health,Natural Products and Drug Development, Infectios and Parasitic Diseases and Non-Communicable Diseases.\n",
    "\n",
    "Within the Health Sector, KEMRI is responsible for providing leadership in health research and development, shaping the health research agenga, setting norms and standards, articulating evidence-based policy options, monitoring and assessing health trends as well as dealing with trans-boundary threats and disease outbreaks. The institute further continues to be responsive the challenges of emerging and re-emerging diseases including Non-Communicable Diseases and communicable conditions and bio-terrorism.\n",
    "\n",
    "Anemia is one of the diseaes that have posed a significant public health problem. Anemia is a condition in which the body lacks enough red blood cells to carry oxygen to the body's tissues. According to the World Health Organization, anemia is a serious global public health problem that particularly affects young children, mensturating adolescent girls, pregnant and postpaturm women.Anemia can be classified in three different levels based on its severity. The severity of the anemia is determined by measuring the level of haemoglobin in the blood.These levels are mild,moderate and severe.\n",
    "\n",
    "In this project we aim to develop predictive models utilizing factors such as Red blood Cell count,age, sex,white bllod cell count etc to help predict the presence of anemia and its severity in different persons. By critically analyzing this different factors we will be able to help KEMRI which was commisioned by the Ministry of Health to improve on the current diagnostic tools on anemia detection in terms of efficiency and accuracy. By doing this we aim to encourage accurate early predictions which may ultimately lead to accelerated interventions.\n",
    "\n",
    "\n",
    "\n",
    "\n",
    "\n",
    "\n",
    "\n",
    "\n",
    "\n",
    "\n",
    "\n"
   ]
  },
  {
   "cell_type": "markdown",
   "metadata": {},
   "source": [
    "### (b) Problem Statement"
   ]
  },
  {
   "cell_type": "markdown",
   "metadata": {},
   "source": [
    "Efficient and accurate anemia detection, coupled with precise severity measurement, presents a critical challenge in modern healthcare, especially in the context of Kenya's medical landscape. The current diagnostic tools lack the precision needed for early identification, leading to delayed interventions, suboptimal patient outcomes, and escalated healthcare costs due to preventable hospitalizations. In response to this, the Kenya Medical Research Institute (KEMRI), commissioned by the Ministry of Health (MOH), is embarking on a pioneering project. Our goal is to develop predictive models utilizing comprehensive blood count (CBC) parameters, age, and gender data, harnessing the power of machine learning. These models will ease the identification of anemia, to the benefit of patients, healthcare proffesionals, KEMRi and the MOH. Solving this problem may significantly enhance patient care, improve medical decision-making, and alleviate healthcare burdens, contributing data-driven insights to inform healthcare policies and strategies."
   ]
  },
  {
   "cell_type": "markdown",
   "metadata": {},
   "source": [
    "### (c) Defining Metrics of Success"
   ]
  },
  {
   "cell_type": "markdown",
   "metadata": {},
   "source": [
    "The predictive model will be successful if it provides a well defined picture of health care utilization in respect to age, gender and the Comprehensive Blood Count in the blood sample.\n"
   ]
  },
  {
   "cell_type": "markdown",
   "metadata": {},
   "source": [
    "### (e) Objectives"
   ]
  },
  {
   "cell_type": "markdown",
   "metadata": {},
   "source": [
    "##### 1.1 Specific Objection\n",
    "Determine normal reference ranges for key CBC parameters in this population overall and stratified by age and sex\n",
    "\n",
    "##### 1.2 Main Objectives\n",
    "1. Examine the relationship between age and abnormal CBC findings\n",
    "2. Calculate the proportion of patients with abnormal results for each CBC parameter\n",
    "3. Compare the prevalence of abnormal CBC results between males and females\n",
    "4. Analyze the association between RBC indices and anemia to understand RBC characteristics in anemic patients\n"
   ]
  },
  {
   "cell_type": "code",
   "execution_count": 1,
   "metadata": {},
   "outputs": [],
   "source": [
    "import pandas as pd \n",
    "import numpy as np\n",
    "import matplotlib.pyplot as plt\n",
    "import seaborn as sns"
   ]
  },
  {
   "cell_type": "code",
   "execution_count": 2,
   "metadata": {},
   "outputs": [],
   "source": [
    "# loading the dataset\n",
    "df = pd.read_csv(\"CBC data_for_meandeley_csv.csv\")"
   ]
  },
  {
   "cell_type": "code",
   "execution_count": 3,
   "metadata": {},
   "outputs": [
    {
     "data": {
      "text/html": [
       "<div>\n",
       "<style scoped>\n",
       "    .dataframe tbody tr th:only-of-type {\n",
       "        vertical-align: middle;\n",
       "    }\n",
       "\n",
       "    .dataframe tbody tr th {\n",
       "        vertical-align: top;\n",
       "    }\n",
       "\n",
       "    .dataframe thead th {\n",
       "        text-align: right;\n",
       "    }\n",
       "</style>\n",
       "<table border=\"1\" class=\"dataframe\">\n",
       "  <thead>\n",
       "    <tr style=\"text-align: right;\">\n",
       "      <th></th>\n",
       "      <th>S. No.</th>\n",
       "      <th>Age</th>\n",
       "      <th>Sex</th>\n",
       "      <th>RBC</th>\n",
       "      <th>PCV</th>\n",
       "      <th>MCV</th>\n",
       "      <th>MCH</th>\n",
       "      <th>MCHC</th>\n",
       "      <th>RDW</th>\n",
       "      <th>TLC</th>\n",
       "      <th>PLT /mm3</th>\n",
       "      <th>HGB</th>\n",
       "    </tr>\n",
       "  </thead>\n",
       "  <tbody>\n",
       "    <tr>\n",
       "      <th>0</th>\n",
       "      <td>NaN</td>\n",
       "      <td>NaN</td>\n",
       "      <td>NaN</td>\n",
       "      <td>Red Blood Cell count</td>\n",
       "      <td>Packed Cell Volume</td>\n",
       "      <td>Mean Cell Volume</td>\n",
       "      <td>Mean Cell Hemoglobin</td>\n",
       "      <td>NaN</td>\n",
       "      <td>Red Cell Distribution width</td>\n",
       "      <td>White Blood Cell (WBC count),</td>\n",
       "      <td>Platelet</td>\n",
       "      <td>Hemoglobin</td>\n",
       "    </tr>\n",
       "    <tr>\n",
       "      <th>1</th>\n",
       "      <td>1.0</td>\n",
       "      <td>28.0</td>\n",
       "      <td>0.0</td>\n",
       "      <td>5.66</td>\n",
       "      <td>34</td>\n",
       "      <td>60.1</td>\n",
       "      <td>17</td>\n",
       "      <td>28.2</td>\n",
       "      <td>20</td>\n",
       "      <td>11.1</td>\n",
       "      <td>128.3</td>\n",
       "      <td>9.6</td>\n",
       "    </tr>\n",
       "    <tr>\n",
       "      <th>2</th>\n",
       "      <td>2.0</td>\n",
       "      <td>41.0</td>\n",
       "      <td>0.0</td>\n",
       "      <td>4.78</td>\n",
       "      <td>44.5</td>\n",
       "      <td>93.1</td>\n",
       "      <td>28.9</td>\n",
       "      <td>31.0</td>\n",
       "      <td>13</td>\n",
       "      <td>7.02</td>\n",
       "      <td>419</td>\n",
       "      <td>13.8</td>\n",
       "    </tr>\n",
       "    <tr>\n",
       "      <th>3</th>\n",
       "      <td>3.0</td>\n",
       "      <td>40.0</td>\n",
       "      <td>1.0</td>\n",
       "      <td>4.65</td>\n",
       "      <td>41.6</td>\n",
       "      <td>89.5</td>\n",
       "      <td>28.8</td>\n",
       "      <td>32.2</td>\n",
       "      <td>13</td>\n",
       "      <td>8.09</td>\n",
       "      <td>325</td>\n",
       "      <td>13.4</td>\n",
       "    </tr>\n",
       "  </tbody>\n",
       "</table>\n",
       "</div>"
      ],
      "text/plain": [
       "   S. No.  Age        Sex                 RBC                     PCV   \n",
       "0     NaN        NaN    NaN  Red Blood Cell count  Packed Cell Volume  \\\n",
       "1     1.0       28.0    0.0                  5.66                  34   \n",
       "2     2.0       41.0    0.0                  4.78                44.5   \n",
       "3     3.0       40.0    1.0                  4.65                41.6   \n",
       "\n",
       "              MCV                     MCH   MCHC     \n",
       "0  Mean Cell Volume  Mean Cell Hemoglobin      NaN  \\\n",
       "1              60.1                    17     28.2   \n",
       "2              93.1                  28.9     31.0   \n",
       "3              89.5                  28.8     32.2   \n",
       "\n",
       "                       RDW                                TLC  PLT /mm3   \n",
       "0  Red Cell Distribution width  White Blood Cell (WBC count),  Platelet  \\\n",
       "1                           20                           11.1     128.3   \n",
       "2                           13                           7.02       419   \n",
       "3                           13                           8.09       325   \n",
       "\n",
       "         HGB   \n",
       "0  Hemoglobin  \n",
       "1         9.6  \n",
       "2        13.8  \n",
       "3        13.4  "
      ]
     },
     "execution_count": 3,
     "metadata": {},
     "output_type": "execute_result"
    }
   ],
   "source": [
    "df.head(4)"
   ]
  },
  {
   "cell_type": "markdown",
   "metadata": {},
   "source": [
    "The data seems to have two column names. "
   ]
  },
  {
   "cell_type": "code",
   "execution_count": 4,
   "metadata": {},
   "outputs": [
    {
     "data": {
      "text/html": [
       "<div>\n",
       "<style scoped>\n",
       "    .dataframe tbody tr th:only-of-type {\n",
       "        vertical-align: middle;\n",
       "    }\n",
       "\n",
       "    .dataframe tbody tr th {\n",
       "        vertical-align: top;\n",
       "    }\n",
       "\n",
       "    .dataframe thead th {\n",
       "        text-align: right;\n",
       "    }\n",
       "</style>\n",
       "<table border=\"1\" class=\"dataframe\">\n",
       "  <thead>\n",
       "    <tr style=\"text-align: right;\">\n",
       "      <th></th>\n",
       "      <th>S.NO</th>\n",
       "      <th>Age</th>\n",
       "      <th>Sex</th>\n",
       "      <th>Red Blood Cell count</th>\n",
       "      <th>Packed Cell Volume</th>\n",
       "      <th>Mean Cell Volume</th>\n",
       "      <th>Mean Cell Hemoglobin</th>\n",
       "      <th>MCHC</th>\n",
       "      <th>Red Cell Distribution width</th>\n",
       "      <th>White Blood Cell (WBC count)</th>\n",
       "      <th>Platelet</th>\n",
       "      <th>Hemoglobin</th>\n",
       "    </tr>\n",
       "  </thead>\n",
       "  <tbody>\n",
       "    <tr>\n",
       "      <th>0</th>\n",
       "      <td>NaN</td>\n",
       "      <td>NaN</td>\n",
       "      <td>NaN</td>\n",
       "      <td>Red Blood Cell count</td>\n",
       "      <td>Packed Cell Volume</td>\n",
       "      <td>Mean Cell Volume</td>\n",
       "      <td>Mean Cell Hemoglobin</td>\n",
       "      <td>NaN</td>\n",
       "      <td>Red Cell Distribution width</td>\n",
       "      <td>White Blood Cell (WBC count),</td>\n",
       "      <td>Platelet</td>\n",
       "      <td>Hemoglobin</td>\n",
       "    </tr>\n",
       "    <tr>\n",
       "      <th>1</th>\n",
       "      <td>1.0</td>\n",
       "      <td>28.0</td>\n",
       "      <td>0.0</td>\n",
       "      <td>5.66</td>\n",
       "      <td>34</td>\n",
       "      <td>60.1</td>\n",
       "      <td>17</td>\n",
       "      <td>28.2</td>\n",
       "      <td>20</td>\n",
       "      <td>11.1</td>\n",
       "      <td>128.3</td>\n",
       "      <td>9.6</td>\n",
       "    </tr>\n",
       "    <tr>\n",
       "      <th>2</th>\n",
       "      <td>2.0</td>\n",
       "      <td>41.0</td>\n",
       "      <td>0.0</td>\n",
       "      <td>4.78</td>\n",
       "      <td>44.5</td>\n",
       "      <td>93.1</td>\n",
       "      <td>28.9</td>\n",
       "      <td>31.0</td>\n",
       "      <td>13</td>\n",
       "      <td>7.02</td>\n",
       "      <td>419</td>\n",
       "      <td>13.8</td>\n",
       "    </tr>\n",
       "    <tr>\n",
       "      <th>3</th>\n",
       "      <td>3.0</td>\n",
       "      <td>40.0</td>\n",
       "      <td>1.0</td>\n",
       "      <td>4.65</td>\n",
       "      <td>41.6</td>\n",
       "      <td>89.5</td>\n",
       "      <td>28.8</td>\n",
       "      <td>32.2</td>\n",
       "      <td>13</td>\n",
       "      <td>8.09</td>\n",
       "      <td>325</td>\n",
       "      <td>13.4</td>\n",
       "    </tr>\n",
       "    <tr>\n",
       "      <th>4</th>\n",
       "      <td>4.0</td>\n",
       "      <td>76.0</td>\n",
       "      <td>0.0</td>\n",
       "      <td>4.24</td>\n",
       "      <td>36.7</td>\n",
       "      <td>86.6</td>\n",
       "      <td>26.7</td>\n",
       "      <td>30.8</td>\n",
       "      <td>14.9</td>\n",
       "      <td>13.41</td>\n",
       "      <td>264</td>\n",
       "      <td>11.3</td>\n",
       "    </tr>\n",
       "  </tbody>\n",
       "</table>\n",
       "</div>"
      ],
      "text/plain": [
       "   S.NO   Age  Sex  Red Blood Cell count  Packed Cell Volume   \n",
       "0   NaN   NaN  NaN  Red Blood Cell count  Packed Cell Volume  \\\n",
       "1   1.0  28.0  0.0                  5.66                  34   \n",
       "2   2.0  41.0  0.0                  4.78                44.5   \n",
       "3   3.0  40.0  1.0                  4.65                41.6   \n",
       "4   4.0  76.0  0.0                  4.24                36.7   \n",
       "\n",
       "   Mean Cell Volume  Mean Cell Hemoglobin  MCHC  Red Cell Distribution width   \n",
       "0  Mean Cell Volume  Mean Cell Hemoglobin   NaN  Red Cell Distribution width  \\\n",
       "1              60.1                    17  28.2                           20   \n",
       "2              93.1                  28.9  31.0                           13   \n",
       "3              89.5                  28.8  32.2                           13   \n",
       "4              86.6                  26.7  30.8                         14.9   \n",
       "\n",
       "    White Blood Cell (WBC count)  Platelet  Hemoglobin  \n",
       "0  White Blood Cell (WBC count),  Platelet  Hemoglobin  \n",
       "1                           11.1     128.3         9.6  \n",
       "2                           7.02       419        13.8  \n",
       "3                           8.09       325        13.4  \n",
       "4                          13.41       264        11.3  "
      ]
     },
     "execution_count": 4,
     "metadata": {},
     "output_type": "execute_result"
    }
   ],
   "source": [
    "#changing column names\n",
    "names = [\"S.NO\",\"Age\",\"Sex\",\"Red Blood Cell count\",\n",
    "                 \t\"Packed Cell Volume\",\"Mean Cell Volume\",\n",
    "                    \"Mean Cell Hemoglobin\",\t\"MCHC\",\"Red Cell Distribution width\",\n",
    "                    \"White Blood Cell (WBC count)\",\"Platelet\",\"Hemoglobin\"]\n",
    "df.columns = names\n",
    "df.head()"
   ]
  },
  {
   "cell_type": "markdown",
   "metadata": {},
   "source": [
    "dropping the first row."
   ]
  },
  {
   "cell_type": "code",
   "execution_count": 5,
   "metadata": {},
   "outputs": [
    {
     "data": {
      "text/html": [
       "<div>\n",
       "<style scoped>\n",
       "    .dataframe tbody tr th:only-of-type {\n",
       "        vertical-align: middle;\n",
       "    }\n",
       "\n",
       "    .dataframe tbody tr th {\n",
       "        vertical-align: top;\n",
       "    }\n",
       "\n",
       "    .dataframe thead th {\n",
       "        text-align: right;\n",
       "    }\n",
       "</style>\n",
       "<table border=\"1\" class=\"dataframe\">\n",
       "  <thead>\n",
       "    <tr style=\"text-align: right;\">\n",
       "      <th></th>\n",
       "      <th>S.NO</th>\n",
       "      <th>Age</th>\n",
       "      <th>Sex</th>\n",
       "      <th>Red Blood Cell count</th>\n",
       "      <th>Packed Cell Volume</th>\n",
       "      <th>Mean Cell Volume</th>\n",
       "      <th>Mean Cell Hemoglobin</th>\n",
       "      <th>MCHC</th>\n",
       "      <th>Red Cell Distribution width</th>\n",
       "      <th>White Blood Cell (WBC count)</th>\n",
       "      <th>Platelet</th>\n",
       "      <th>Hemoglobin</th>\n",
       "    </tr>\n",
       "  </thead>\n",
       "  <tbody>\n",
       "    <tr>\n",
       "      <th>1</th>\n",
       "      <td>1.0</td>\n",
       "      <td>28.0</td>\n",
       "      <td>0.0</td>\n",
       "      <td>5.66</td>\n",
       "      <td>34</td>\n",
       "      <td>60.1</td>\n",
       "      <td>17</td>\n",
       "      <td>28.2</td>\n",
       "      <td>20</td>\n",
       "      <td>11.1</td>\n",
       "      <td>128.3</td>\n",
       "      <td>9.6</td>\n",
       "    </tr>\n",
       "    <tr>\n",
       "      <th>2</th>\n",
       "      <td>2.0</td>\n",
       "      <td>41.0</td>\n",
       "      <td>0.0</td>\n",
       "      <td>4.78</td>\n",
       "      <td>44.5</td>\n",
       "      <td>93.1</td>\n",
       "      <td>28.9</td>\n",
       "      <td>31.0</td>\n",
       "      <td>13</td>\n",
       "      <td>7.02</td>\n",
       "      <td>419</td>\n",
       "      <td>13.8</td>\n",
       "    </tr>\n",
       "    <tr>\n",
       "      <th>3</th>\n",
       "      <td>3.0</td>\n",
       "      <td>40.0</td>\n",
       "      <td>1.0</td>\n",
       "      <td>4.65</td>\n",
       "      <td>41.6</td>\n",
       "      <td>89.5</td>\n",
       "      <td>28.8</td>\n",
       "      <td>32.2</td>\n",
       "      <td>13</td>\n",
       "      <td>8.09</td>\n",
       "      <td>325</td>\n",
       "      <td>13.4</td>\n",
       "    </tr>\n",
       "    <tr>\n",
       "      <th>4</th>\n",
       "      <td>4.0</td>\n",
       "      <td>76.0</td>\n",
       "      <td>0.0</td>\n",
       "      <td>4.24</td>\n",
       "      <td>36.7</td>\n",
       "      <td>86.6</td>\n",
       "      <td>26.7</td>\n",
       "      <td>30.8</td>\n",
       "      <td>14.9</td>\n",
       "      <td>13.41</td>\n",
       "      <td>264</td>\n",
       "      <td>11.3</td>\n",
       "    </tr>\n",
       "    <tr>\n",
       "      <th>5</th>\n",
       "      <td>5.0</td>\n",
       "      <td>20.0</td>\n",
       "      <td>1.0</td>\n",
       "      <td>4.14</td>\n",
       "      <td>36.9</td>\n",
       "      <td>89.1</td>\n",
       "      <td>27.8</td>\n",
       "      <td>31.2</td>\n",
       "      <td>13.2</td>\n",
       "      <td>4.75</td>\n",
       "      <td>196</td>\n",
       "      <td>11.5</td>\n",
       "    </tr>\n",
       "  </tbody>\n",
       "</table>\n",
       "</div>"
      ],
      "text/plain": [
       "   S.NO   Age  Sex Red Blood Cell count Packed Cell Volume Mean Cell Volume   \n",
       "1   1.0  28.0  0.0                 5.66                 34             60.1  \\\n",
       "2   2.0  41.0  0.0                 4.78               44.5             93.1   \n",
       "3   3.0  40.0  1.0                 4.65               41.6             89.5   \n",
       "4   4.0  76.0  0.0                 4.24               36.7             86.6   \n",
       "5   5.0  20.0  1.0                 4.14               36.9             89.1   \n",
       "\n",
       "  Mean Cell Hemoglobin  MCHC Red Cell Distribution width   \n",
       "1                   17  28.2                          20  \\\n",
       "2                 28.9  31.0                          13   \n",
       "3                 28.8  32.2                          13   \n",
       "4                 26.7  30.8                        14.9   \n",
       "5                 27.8  31.2                        13.2   \n",
       "\n",
       "  White Blood Cell (WBC count) Platelet Hemoglobin  \n",
       "1                         11.1    128.3        9.6  \n",
       "2                         7.02      419       13.8  \n",
       "3                         8.09      325       13.4  \n",
       "4                        13.41      264       11.3  \n",
       "5                         4.75      196       11.5  "
      ]
     },
     "execution_count": 5,
     "metadata": {},
     "output_type": "execute_result"
    }
   ],
   "source": [
    "#dropping the first row\n",
    "df = df.drop([0],axis=0)\n",
    "df.head()"
   ]
  },
  {
   "cell_type": "markdown",
   "metadata": {},
   "source": [
    "Getting the shape of the data"
   ]
  },
  {
   "cell_type": "code",
   "execution_count": 6,
   "metadata": {},
   "outputs": [
    {
     "data": {
      "text/plain": [
       "(373, 12)"
      ]
     },
     "execution_count": 6,
     "metadata": {},
     "output_type": "execute_result"
    }
   ],
   "source": [
    "# shape of the data\n",
    "df.shape"
   ]
  },
  {
   "cell_type": "markdown",
   "metadata": {},
   "source": [
    "The dataset has 12 columns and 373 rows"
   ]
  },
  {
   "cell_type": "code",
   "execution_count": 7,
   "metadata": {},
   "outputs": [
    {
     "data": {
      "text/html": [
       "<div>\n",
       "<style scoped>\n",
       "    .dataframe tbody tr th:only-of-type {\n",
       "        vertical-align: middle;\n",
       "    }\n",
       "\n",
       "    .dataframe tbody tr th {\n",
       "        vertical-align: top;\n",
       "    }\n",
       "\n",
       "    .dataframe thead th {\n",
       "        text-align: right;\n",
       "    }\n",
       "</style>\n",
       "<table border=\"1\" class=\"dataframe\">\n",
       "  <thead>\n",
       "    <tr style=\"text-align: right;\">\n",
       "      <th></th>\n",
       "      <th>DataType</th>\n",
       "    </tr>\n",
       "  </thead>\n",
       "  <tbody>\n",
       "    <tr>\n",
       "      <th>S.NO</th>\n",
       "      <td>float64</td>\n",
       "    </tr>\n",
       "    <tr>\n",
       "      <th>Age</th>\n",
       "      <td>float64</td>\n",
       "    </tr>\n",
       "    <tr>\n",
       "      <th>Sex</th>\n",
       "      <td>float64</td>\n",
       "    </tr>\n",
       "    <tr>\n",
       "      <th>Red Blood Cell count</th>\n",
       "      <td>object</td>\n",
       "    </tr>\n",
       "    <tr>\n",
       "      <th>Packed Cell Volume</th>\n",
       "      <td>object</td>\n",
       "    </tr>\n",
       "    <tr>\n",
       "      <th>Mean Cell Volume</th>\n",
       "      <td>object</td>\n",
       "    </tr>\n",
       "    <tr>\n",
       "      <th>Mean Cell Hemoglobin</th>\n",
       "      <td>object</td>\n",
       "    </tr>\n",
       "    <tr>\n",
       "      <th>MCHC</th>\n",
       "      <td>float64</td>\n",
       "    </tr>\n",
       "    <tr>\n",
       "      <th>Red Cell Distribution width</th>\n",
       "      <td>object</td>\n",
       "    </tr>\n",
       "    <tr>\n",
       "      <th>White Blood Cell (WBC count)</th>\n",
       "      <td>object</td>\n",
       "    </tr>\n",
       "    <tr>\n",
       "      <th>Platelet</th>\n",
       "      <td>object</td>\n",
       "    </tr>\n",
       "    <tr>\n",
       "      <th>Hemoglobin</th>\n",
       "      <td>object</td>\n",
       "    </tr>\n",
       "  </tbody>\n",
       "</table>\n",
       "</div>"
      ],
      "text/plain": [
       "                             DataType\n",
       "S.NO                          float64\n",
       "Age                           float64\n",
       "Sex                           float64\n",
       "Red Blood Cell count           object\n",
       "Packed Cell Volume             object\n",
       "Mean Cell Volume               object\n",
       "Mean Cell Hemoglobin           object\n",
       "MCHC                          float64\n",
       "Red Cell Distribution width    object\n",
       "White Blood Cell (WBC count)   object\n",
       "Platelet                       object\n",
       "Hemoglobin                     object"
      ]
     },
     "execution_count": 7,
     "metadata": {},
     "output_type": "execute_result"
    }
   ],
   "source": [
    "# datatypes of different columns in the data set\n",
    "datatypes = df.dtypes\n",
    "dname = [ \"DataType\"]\n",
    "dtypedf=pd.DataFrame(datatypes )\n",
    "dtypedf.columns = dname\n",
    "dtypedf"
   ]
  },
  {
   "cell_type": "markdown",
   "metadata": {},
   "source": [
    "The dataset has a both columns which are strings and floats."
   ]
  },
  {
   "cell_type": "code",
   "execution_count": 8,
   "metadata": {},
   "outputs": [
    {
     "data": {
      "text/plain": [
       "S.NO                            9\n",
       "Age                             9\n",
       "Sex                             9\n",
       "Red Blood Cell count            9\n",
       "Packed Cell Volume              9\n",
       "Mean Cell Volume                9\n",
       "Mean Cell Hemoglobin            9\n",
       "MCHC                            9\n",
       "Red Cell Distribution width     9\n",
       "White Blood Cell (WBC count)    9\n",
       "Platelet                        9\n",
       "Hemoglobin                      9\n",
       "dtype: int64"
      ]
     },
     "execution_count": 8,
     "metadata": {},
     "output_type": "execute_result"
    }
   ],
   "source": [
    "# sum of missing data per column\n",
    "df.isna().sum()"
   ]
  },
  {
   "cell_type": "code",
   "execution_count": 9,
   "metadata": {},
   "outputs": [],
   "source": [
    "#dropping the missing data\n",
    "df= df.dropna()"
   ]
  },
  {
   "cell_type": "markdown",
   "metadata": {},
   "source": [
    "Checking for duplicate"
   ]
  },
  {
   "cell_type": "code",
   "execution_count": 10,
   "metadata": {},
   "outputs": [
    {
     "data": {
      "text/plain": [
       "0"
      ]
     },
     "execution_count": 10,
     "metadata": {},
     "output_type": "execute_result"
    }
   ],
   "source": [
    "df.duplicated().sum()"
   ]
  },
  {
   "cell_type": "markdown",
   "metadata": {},
   "source": [
    "The data has no duplicated elements"
   ]
  },
  {
   "cell_type": "markdown",
   "metadata": {},
   "source": [
    "converting the data types into their respective data type"
   ]
  },
  {
   "cell_type": "code",
   "execution_count": 11,
   "metadata": {},
   "outputs": [],
   "source": [
    "column_data_types = {\n",
    "    \"S.NO\": int,\n",
    "    \"Age\": int,\n",
    "    \"Sex\": str,\n",
    "    \"Red Blood Cell count\": float,\n",
    "    \"Packed Cell Volume\": float,\n",
    "    \"Mean Cell Volume\": float,\n",
    "    \"Mean Cell Hemoglobin\": float,\n",
    "    \"MCHC\": float,\n",
    "    \"Red Cell Distribution width\": float,\n",
    "    \"White Blood Cell (WBC count)\": float,\n",
    "    \"Platelet\": float,\n",
    "    \"Hemoglobin\": float}\n",
    "df = pd.DataFrame(df, columns=column_data_types.keys())\n",
    "df = df.astype(column_data_types)"
   ]
  },
  {
   "cell_type": "code",
   "execution_count": 12,
   "metadata": {},
   "outputs": [
    {
     "data": {
      "text/plain": [
       "S.NO                              int32\n",
       "Age                               int32\n",
       "Sex                              object\n",
       "Red Blood Cell count            float64\n",
       "Packed Cell Volume              float64\n",
       "Mean Cell Volume                float64\n",
       "Mean Cell Hemoglobin            float64\n",
       "MCHC                            float64\n",
       "Red Cell Distribution width     float64\n",
       "White Blood Cell (WBC count)    float64\n",
       "Platelet                        float64\n",
       "Hemoglobin                      float64\n",
       "dtype: object"
      ]
     },
     "execution_count": 12,
     "metadata": {},
     "output_type": "execute_result"
    }
   ],
   "source": [
    "df.dtypes"
   ]
  },
  {
   "cell_type": "markdown",
   "metadata": {},
   "source": [
    "statistical summary"
   ]
  },
  {
   "cell_type": "code",
   "execution_count": 13,
   "metadata": {},
   "outputs": [
    {
     "data": {
      "text/html": [
       "<div>\n",
       "<style scoped>\n",
       "    .dataframe tbody tr th:only-of-type {\n",
       "        vertical-align: middle;\n",
       "    }\n",
       "\n",
       "    .dataframe tbody tr th {\n",
       "        vertical-align: top;\n",
       "    }\n",
       "\n",
       "    .dataframe thead th {\n",
       "        text-align: right;\n",
       "    }\n",
       "</style>\n",
       "<table border=\"1\" class=\"dataframe\">\n",
       "  <thead>\n",
       "    <tr style=\"text-align: right;\">\n",
       "      <th></th>\n",
       "      <th>count</th>\n",
       "      <th>mean</th>\n",
       "      <th>std</th>\n",
       "      <th>min</th>\n",
       "      <th>25%</th>\n",
       "      <th>50%</th>\n",
       "      <th>75%</th>\n",
       "      <th>max</th>\n",
       "    </tr>\n",
       "  </thead>\n",
       "  <tbody>\n",
       "    <tr>\n",
       "      <th>S.NO</th>\n",
       "      <td>364.0</td>\n",
       "      <td>182.500000</td>\n",
       "      <td>105.221988</td>\n",
       "      <td>1.00</td>\n",
       "      <td>91.750</td>\n",
       "      <td>182.500</td>\n",
       "      <td>273.250</td>\n",
       "      <td>364.00</td>\n",
       "    </tr>\n",
       "    <tr>\n",
       "      <th>Age</th>\n",
       "      <td>364.0</td>\n",
       "      <td>44.917582</td>\n",
       "      <td>18.780854</td>\n",
       "      <td>11.00</td>\n",
       "      <td>28.000</td>\n",
       "      <td>44.500</td>\n",
       "      <td>60.000</td>\n",
       "      <td>89.00</td>\n",
       "    </tr>\n",
       "    <tr>\n",
       "      <th>Red Blood Cell count</th>\n",
       "      <td>364.0</td>\n",
       "      <td>4.278736</td>\n",
       "      <td>0.820166</td>\n",
       "      <td>1.36</td>\n",
       "      <td>3.780</td>\n",
       "      <td>4.335</td>\n",
       "      <td>4.800</td>\n",
       "      <td>6.90</td>\n",
       "    </tr>\n",
       "    <tr>\n",
       "      <th>Packed Cell Volume</th>\n",
       "      <td>364.0</td>\n",
       "      <td>36.762912</td>\n",
       "      <td>6.830835</td>\n",
       "      <td>13.10</td>\n",
       "      <td>32.900</td>\n",
       "      <td>36.800</td>\n",
       "      <td>41.850</td>\n",
       "      <td>56.90</td>\n",
       "    </tr>\n",
       "    <tr>\n",
       "      <th>Mean Cell Volume</th>\n",
       "      <td>364.0</td>\n",
       "      <td>87.509121</td>\n",
       "      <td>9.332164</td>\n",
       "      <td>55.70</td>\n",
       "      <td>83.175</td>\n",
       "      <td>87.950</td>\n",
       "      <td>91.875</td>\n",
       "      <td>124.10</td>\n",
       "    </tr>\n",
       "    <tr>\n",
       "      <th>Mean Cell Hemoglobin</th>\n",
       "      <td>364.0</td>\n",
       "      <td>28.227143</td>\n",
       "      <td>3.865998</td>\n",
       "      <td>14.70</td>\n",
       "      <td>26.300</td>\n",
       "      <td>28.200</td>\n",
       "      <td>30.400</td>\n",
       "      <td>41.40</td>\n",
       "    </tr>\n",
       "    <tr>\n",
       "      <th>MCHC</th>\n",
       "      <td>364.0</td>\n",
       "      <td>32.053407</td>\n",
       "      <td>2.801790</td>\n",
       "      <td>23.60</td>\n",
       "      <td>30.300</td>\n",
       "      <td>31.700</td>\n",
       "      <td>33.300</td>\n",
       "      <td>50.20</td>\n",
       "    </tr>\n",
       "    <tr>\n",
       "      <th>Red Cell Distribution width</th>\n",
       "      <td>364.0</td>\n",
       "      <td>15.116511</td>\n",
       "      <td>2.176557</td>\n",
       "      <td>10.60</td>\n",
       "      <td>13.600</td>\n",
       "      <td>14.800</td>\n",
       "      <td>16.100</td>\n",
       "      <td>29.20</td>\n",
       "    </tr>\n",
       "    <tr>\n",
       "      <th>White Blood Cell (WBC count)</th>\n",
       "      <td>364.0</td>\n",
       "      <td>8.863571</td>\n",
       "      <td>4.868502</td>\n",
       "      <td>2.00</td>\n",
       "      <td>5.900</td>\n",
       "      <td>7.935</td>\n",
       "      <td>10.205</td>\n",
       "      <td>42.42</td>\n",
       "    </tr>\n",
       "    <tr>\n",
       "      <th>Platelet</th>\n",
       "      <td>364.0</td>\n",
       "      <td>223.750824</td>\n",
       "      <td>99.407153</td>\n",
       "      <td>10.00</td>\n",
       "      <td>153.000</td>\n",
       "      <td>210.000</td>\n",
       "      <td>268.250</td>\n",
       "      <td>660.00</td>\n",
       "    </tr>\n",
       "    <tr>\n",
       "      <th>Hemoglobin</th>\n",
       "      <td>364.0</td>\n",
       "      <td>11.907692</td>\n",
       "      <td>2.186686</td>\n",
       "      <td>4.20</td>\n",
       "      <td>10.600</td>\n",
       "      <td>12.100</td>\n",
       "      <td>13.400</td>\n",
       "      <td>19.60</td>\n",
       "    </tr>\n",
       "  </tbody>\n",
       "</table>\n",
       "</div>"
      ],
      "text/plain": [
       "                              count        mean         std    min      25%   \n",
       "S.NO                          364.0  182.500000  105.221988   1.00   91.750  \\\n",
       "Age                           364.0   44.917582   18.780854  11.00   28.000   \n",
       "Red Blood Cell count          364.0    4.278736    0.820166   1.36    3.780   \n",
       "Packed Cell Volume            364.0   36.762912    6.830835  13.10   32.900   \n",
       "Mean Cell Volume              364.0   87.509121    9.332164  55.70   83.175   \n",
       "Mean Cell Hemoglobin          364.0   28.227143    3.865998  14.70   26.300   \n",
       "MCHC                          364.0   32.053407    2.801790  23.60   30.300   \n",
       "Red Cell Distribution width   364.0   15.116511    2.176557  10.60   13.600   \n",
       "White Blood Cell (WBC count)  364.0    8.863571    4.868502   2.00    5.900   \n",
       "Platelet                      364.0  223.750824   99.407153  10.00  153.000   \n",
       "Hemoglobin                    364.0   11.907692    2.186686   4.20   10.600   \n",
       "\n",
       "                                  50%      75%     max  \n",
       "S.NO                          182.500  273.250  364.00  \n",
       "Age                            44.500   60.000   89.00  \n",
       "Red Blood Cell count            4.335    4.800    6.90  \n",
       "Packed Cell Volume             36.800   41.850   56.90  \n",
       "Mean Cell Volume               87.950   91.875  124.10  \n",
       "Mean Cell Hemoglobin           28.200   30.400   41.40  \n",
       "MCHC                           31.700   33.300   50.20  \n",
       "Red Cell Distribution width    14.800   16.100   29.20  \n",
       "White Blood Cell (WBC count)    7.935   10.205   42.42  \n",
       "Platelet                      210.000  268.250  660.00  \n",
       "Hemoglobin                     12.100   13.400   19.60  "
      ]
     },
     "execution_count": 13,
     "metadata": {},
     "output_type": "execute_result"
    }
   ],
   "source": [
    "df.describe().T"
   ]
  },
  {
   "cell_type": "markdown",
   "metadata": {},
   "source": [
    "# Exploratory Data Analysis"
   ]
  },
  {
   "cell_type": "code",
   "execution_count": 17,
   "metadata": {},
   "outputs": [
    {
     "data": {
      "text/plain": [
       "<function matplotlib.pyplot.show(close=None, block=None)>"
      ]
     },
     "execution_count": 17,
     "metadata": {},
     "output_type": "execute_result"
    },
    {
     "data": {
      "image/png": "[encoded data removed]",
      "text/plain": [
       "<Figure size 640x480 with 1 Axes>"
      ]
     },
     "metadata": {},
     "output_type": "display_data"
    }
   ],
   "source": [
    "# Distribution plots\n",
    "plt.hist(df['Red Blood Cell count'])\n",
    "plt.title('Red Blood Cell Count Distribution')\n",
    "plt.show"
   ]
  },
  {
   "cell_type": "code",
   "execution_count": 19,
   "metadata": {},
   "outputs": [
    {
     "data": {
      "text/plain": [
       "{'whiskers': [<matplotlib.lines.Line2D at 0x138ffefda20>,\n",
       "  <matplotlib.lines.Line2D at 0x138ffefc4c0>],\n",
       " 'caps': [<matplotlib.lines.Line2D at 0x138ffefd960>,\n",
       "  <matplotlib.lines.Line2D at 0x138fc4c3970>],\n",
       " 'boxes': [<matplotlib.lines.Line2D at 0x138ffefce80>],\n",
       " 'medians': [<matplotlib.lines.Line2D at 0x138ffe17850>],\n",
       " 'fliers': [<matplotlib.lines.Line2D at 0x138ffe16fb0>],\n",
       " 'means': []}"
      ]
     },
     "execution_count": 19,
     "metadata": {},
     "output_type": "execute_result"
    },
    {
     "data": {
      "image/png": "[encoded data removed]",
      "text/plain": [
       "<Figure size 640x480 with 1 Axes>"
      ]
     },
     "metadata": {},
     "output_type": "display_data"
    }
   ],
   "source": [
    "#Checking outliers\n",
    "plt.boxplot(df['Hemoglobin'])\n"
   ]
  },
  {
   "cell_type": "code",
   "execution_count": null,
   "metadata": {},
   "outputs": [],
   "source": []
  }
 ],
 "metadata": {
  "kernelspec": {
   "display_name": "Python (learn-env)",
   "language": "python",
   "name": "learn-env"
  },
  "language_info": {
   "codemirror_mode": {
    "name": "ipython",
    "version": 3
   },
   "file_extension": ".py",
   "mimetype": "text/x-python",
   "name": "python",
   "nbconvert_exporter": "python",
   "pygments_lexer": "ipython3",
   "version": "3.10.12"
  },
  "orig_nbformat": 4
 },
 "nbformat": 4,
 "nbformat_minor": 2
}
